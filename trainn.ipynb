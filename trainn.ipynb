{
 "cells": [
  {
   "cell_type": "code",
   "execution_count": 10,
   "metadata": {
    "scrolled": false
   },
   "outputs": [],
   "source": [
    "import sys\n",
    "import os\n",
    "from keras.preprocessing.image import ImageDataGenerator\n",
    "from keras import optimizers\n",
    "from keras.layers import Dropout, Flatten, Dense, Activation\n",
    "from keras.layers.convolutional import Convolution2D, MaxPooling2D\n",
    "from keras import callbacks\n",
    "import time\n",
    "import numpy as np\n",
    "import pandas as pd\n",
    "import tensorflow as tf\n",
    "#import matplotlib.pyplot as plt\n",
    "from collections import Counter\n",
    "import cv2\n",
    "import keras\n",
    "from keras.models import Sequential\n",
    "from keras import optimizers"
   ]
  },
  {
   "cell_type": "code",
   "execution_count": 11,
   "metadata": {},
   "outputs": [],
   "source": [
    "config = tf.ConfigProto( device_count = {'GPU': 1 , 'CPU': 56} ) \n",
    "sess = tf.Session(config=config) \n",
    "keras.backend.set_session(sess)\n",
    "sess = tf.Session(config=tf.ConfigProto(log_device_placement=True))"
   ]
  },
  {
   "cell_type": "code",
   "execution_count": 19,
   "metadata": {},
   "outputs": [],
   "source": [
    "start = time.time()\n",
    "\n",
    "DEV = False\n",
    "argvs = sys.argv\n",
    "argc = len(argvs)\n",
    "\n",
    "if argc > 1 and (argvs[1] == \"--development\" or argvs[1] == \"-d\"):\n",
    "  DEV = True\n",
    "\n",
    "if DEV:\n",
    "  epochs = 2\n",
    "else:\n",
    "  epochs = 800\n",
    "\n",
    "train_data_path = 'C:/Users/LSK2-PC/Desktop/MA/semoga/CNN/data/train/'\n",
    "train_folders = os.listdir(train_data_path)\n",
    "validation_data_path = 'C:/Users/LSK2-PC/Desktop/MA/semoga/CNN/data/test/'\n",
    "test_folders = os.listdir(validation_data_path)"
   ]
  },
  {
   "cell_type": "markdown",
   "metadata": {},
   "source": [
    "## Build Model"
   ]
  },
  {
   "cell_type": "code",
   "execution_count": 20,
   "metadata": {},
   "outputs": [
    {
     "name": "stderr",
     "output_type": "stream",
     "text": [
      "C:\\Users\\LSK2-PC\\Anaconda3\\envs\\tf\\lib\\site-packages\\ipykernel_launcher.py:17: UserWarning: Update your `Conv2D` call to the Keras 2 API: `Conv2D(32, (5, 5), input_shape=(320, 320,..., padding=\"same\")`\n",
      "C:\\Users\\LSK2-PC\\Anaconda3\\envs\\tf\\lib\\site-packages\\ipykernel_launcher.py:21: UserWarning: Update your `Conv2D` call to the Keras 2 API: `Conv2D(64, (5, 5), padding=\"same\")`\n",
      "C:\\Users\\LSK2-PC\\Anaconda3\\envs\\tf\\lib\\site-packages\\ipykernel_launcher.py:23: UserWarning: Update your `MaxPooling2D` call to the Keras 2 API: `MaxPooling2D(pool_size=(2, 2), data_format=\"channels_first\")`\n"
     ]
    },
    {
     "name": "stdout",
     "output_type": "stream",
     "text": [
      "Found 910 images belonging to 10 classes.\n",
      "Found 70 images belonging to 10 classes.\n"
     ]
    }
   ],
   "source": [
    "\"\"\"\n",
    "Parameters\n",
    "\"\"\"\n",
    "img_width, img_height = 320, 320\n",
    "batch_size = 32\n",
    "samples_per_epoch = 1000\n",
    "validation_steps = 300\n",
    "nb_filters1 = 32\n",
    "nb_filters2 = 64\n",
    "conv1_size = 5\n",
    "conv2_size = 5\n",
    "pool_size = 2\n",
    "classes_num = 10\n",
    "lr = 0.0004\n",
    "\n",
    "model = Sequential()\n",
    "model.add(Convolution2D(nb_filters1, conv1_size, conv1_size, border_mode =\"same\", input_shape=(img_width, img_height, 3)))\n",
    "model.add(Activation(\"relu\"))\n",
    "model.add(MaxPooling2D(pool_size=(pool_size, pool_size)))\n",
    "\n",
    "model.add(Convolution2D(nb_filters2, conv2_size, conv2_size, border_mode =\"same\"))\n",
    "model.add(Activation(\"relu\"))\n",
    "model.add(MaxPooling2D(pool_size=(pool_size, pool_size), dim_ordering='th'))\n",
    "\n",
    "model.add(Flatten())\n",
    "model.add(Dense(256))\n",
    "model.add(Activation(\"relu\"))\n",
    "model.add(Dropout(0.5))\n",
    "model.add(Dense(classes_num, activation='softmax'))\n",
    "\n",
    "model.compile(loss='categorical_crossentropy',\n",
    "              optimizer=optimizers.RMSprop(lr=lr),\n",
    "              metrics=['accuracy'])\n",
    "\n",
    "train_datagen = ImageDataGenerator(\n",
    "    rescale=1. / 255,\n",
    "    shear_range=0.2,\n",
    "    zoom_range=0.2,\n",
    "    horizontal_flip=True)\n",
    "\n",
    "test_datagen = ImageDataGenerator(rescale=1. / 255)\n",
    "\n",
    "train_generator = train_datagen.flow_from_directory(\n",
    "    train_data_path,\n",
    "    target_size=(img_height, img_width),\n",
    "    batch_size=batch_size,\n",
    "    class_mode='categorical')\n",
    "\n",
    "validation_generator = test_datagen.flow_from_directory(\n",
    "    validation_data_path,\n",
    "    target_size=(img_height, img_width),\n",
    "    batch_size=batch_size,\n",
    "    class_mode='categorical')"
   ]
  },
  {
   "cell_type": "markdown",
   "metadata": {},
   "source": [
    "## IDENTIFICATION"
   ]
  },
  {
   "cell_type": "code",
   "execution_count": 21,
   "metadata": {},
   "outputs": [
    {
     "name": "stdout",
     "output_type": "stream",
     "text": [
      "Reading images from C:/Users/LSK2-PC/Desktop/MA/semoga/CNN/data/train/dewi/ ...\n",
      "Reading images from C:/Users/LSK2-PC/Desktop/MA/semoga/CNN/data/train/hasudungan/ ...\n",
      "Reading images from C:/Users/LSK2-PC/Desktop/MA/semoga/CNN/data/train/maredi/ ...\n",
      "Reading images from C:/Users/LSK2-PC/Desktop/MA/semoga/CNN/data/train/mia/ ...\n",
      "Reading images from C:/Users/LSK2-PC/Desktop/MA/semoga/CNN/data/train/michael/ ...\n",
      "Reading images from C:/Users/LSK2-PC/Desktop/MA/semoga/CNN/data/train/parida/ ...\n",
      "Reading images from C:/Users/LSK2-PC/Desktop/MA/semoga/CNN/data/train/rosari/ ...\n",
      "Reading images from C:/Users/LSK2-PC/Desktop/MA/semoga/CNN/data/train/sonya/ ...\n",
      "Reading images from C:/Users/LSK2-PC/Desktop/MA/semoga/CNN/data/train/tahan/ ...\n",
      "Reading images from C:/Users/LSK2-PC/Desktop/MA/semoga/CNN/data/train/yustina/ ...\n"
     ]
    }
   ],
   "source": [
    "x_train, y_train = [], []\n",
    "for folder in train_folders:\n",
    "    files = os.listdir(train_data_path + folder)\n",
    "    print('Reading images from ' + train_data_path + folder + '/ ...')\n",
    "    for file in files[:87000]:\n",
    "        img = cv2.imread(train_data_path + folder + '/' + file)\n",
    "        img = cv2.resize(img, (320, 320))\n",
    "        x_train.append(img)\n",
    "        y_train.append(folder)"
   ]
  },
  {
   "cell_type": "code",
   "execution_count": 23,
   "metadata": {},
   "outputs": [
    {
     "name": "stdout",
     "output_type": "stream",
     "text": [
      "Reading images from C:/Users/LSK2-PC/Desktop/MA/semoga/CNN/data/test/dewi/ ...\n",
      "Reading images from C:/Users/LSK2-PC/Desktop/MA/semoga/CNN/data/test/hasudungan/ ...\n",
      "Reading images from C:/Users/LSK2-PC/Desktop/MA/semoga/CNN/data/test/maredi/ ...\n",
      "Reading images from C:/Users/LSK2-PC/Desktop/MA/semoga/CNN/data/test/mia/ ...\n",
      "Reading images from C:/Users/LSK2-PC/Desktop/MA/semoga/CNN/data/test/michael/ ...\n",
      "Reading images from C:/Users/LSK2-PC/Desktop/MA/semoga/CNN/data/test/parida/ ...\n",
      "Reading images from C:/Users/LSK2-PC/Desktop/MA/semoga/CNN/data/test/rosari/ ...\n",
      "Reading images from C:/Users/LSK2-PC/Desktop/MA/semoga/CNN/data/test/sonya/ ...\n",
      "Reading images from C:/Users/LSK2-PC/Desktop/MA/semoga/CNN/data/test/tahan/ ...\n",
      "Reading images from C:/Users/LSK2-PC/Desktop/MA/semoga/CNN/data/test/yustina/ ...\n"
     ]
    }
   ],
   "source": [
    "x_train, y_train = [], []\n",
    "for folder in train_folders:\n",
    "    files = os.listdir(validation_data_path + folder)\n",
    "    print('Reading images from ' + validation_data_path + folder + '/ ...')\n",
    "    for file in files[:87000]:\n",
    "        img = cv2.imread(validation_data_path + folder + '/' + file)\n",
    "        img = cv2.resize(img, (320, 320))\n",
    "        x_train.append(img)\n",
    "        y_train.append(folder)"
   ]
  },
  {
   "cell_type": "code",
   "execution_count": null,
   "metadata": {},
   "outputs": [
    {
     "name": "stdout",
     "output_type": "stream",
     "text": [
      "Epoch 1/150\n"
     ]
    }
   ],
   "source": [
    "model = model.fit_generator(\n",
    "        train_generator,\n",
    "        steps_per_epoch=150,\n",
    "        epochs=150,\n",
    "        validation_data = validation_generator,\n",
    "        validation_steps = 1000 \n",
    "      )"
   ]
  },
  {
   "cell_type": "code",
   "execution_count": null,
   "metadata": {},
   "outputs": [],
   "source": [
    "\"\"\"\n",
    "Tensorboard log\n",
    "\"\"\"\n",
    "log_dir = './tf-log/'\n",
    "tb_cb = callbacks.TensorBoard(log_dir=log_dir, histogram_freq=0)\n",
    "cbks = [tb_cb]\n",
    "\n",
    "model.fit_generator(\n",
    "    train_generator,\n",
    "    samples_per_epoch=samples_per_epoch,\n",
    "    epochs=epochs,\n",
    "    validation_data=validation_generator,\n",
    "    callbacks=cbks,\n",
    "    validation_steps=validation_steps)\n",
    "\n",
    "target_dir = './models/'\n",
    "if not os.path.exists(target_dir):\n",
    "  os.mkdir(target_dir)\n",
    "model.save('./models/model.h5')\n",
    "model.save_weights('./models/weights.h5')\n",
    "\n",
    "#Calculate execution time\n",
    "end = time.time()\n",
    "dur = end-start\n",
    "\n",
    "if dur<60:\n",
    "    +-+  print(\"Execution Time:\",dur,\"seconds\")\n",
    "elif dur>60 and dur<3600:\n",
    "    dur=dur/60\n",
    "    print(\"Execution Time:\",dur,\"minutes\")\n",
    "else:\n",
    "    dur=dur/(60*60)\n",
    "    print(\"Execution Time:\",dur,\"hours\")"
   ]
  }
 ],
 "metadata": {
  "kernelspec": {
   "display_name": "Python 3",
   "language": "python",
   "name": "python3"
  },
  "language_info": {
   "codemirror_mode": {
    "name": "ipython",
    "version": 3
   },
   "file_extension": ".py",
   "mimetype": "text/x-python",
   "name": "python",
   "nbconvert_exporter": "python",
   "pygments_lexer": "ipython3",
   "version": "3.6.7"
  }
 },
 "nbformat": 4,
 "nbformat_minor": 2
}
